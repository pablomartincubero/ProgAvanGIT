{
  "nbformat": 4,
  "nbformat_minor": 0,
  "metadata": {
    "colab": {
      "provenance": [],
      "authorship_tag": "ABX9TyORf/eYEk+gAk4oPbRdPc03",
      "include_colab_link": true
    },
    "kernelspec": {
      "name": "python3",
      "display_name": "Python 3"
    },
    "language_info": {
      "name": "python"
    }
  },
  "cells": [
    {
      "cell_type": "markdown",
      "metadata": {
        "id": "view-in-github",
        "colab_type": "text"
      },
      "source": [
        "<a href=\"https://colab.research.google.com/github/pablomartincubero/ProgAvanGIT/blob/main/p1y2/P1Y2.ipynb\" target=\"_parent\"><img src=\"https://colab.research.google.com/assets/colab-badge.svg\" alt=\"Open In Colab\"/></a>"
      ]
    },
    {
      "cell_type": "code",
      "source": [
        "for i in range(1, 6):  # Números del 1 al 5\n",
        "    for j in range(1, 6):  # Números del 1 al 5\n",
        "        producto = i * j\n",
        "\n",
        "        # Utiliza 'continue' para omitir multiplicaciones con números pares\n",
        "        if i % 2 == 0:\n",
        "            continue\n",
        "\n",
        "        # Detiene la tabla si el producto supera 20\n",
        "        if producto > 20:\n",
        "            break\n",
        "\n",
        "        # 'pass' se utiliza sin afectar la lógica del programa\n",
        "        pass\n",
        "\n",
        "        # Imprime la multiplicación\n",
        "        print(f\"{i} x {j} = {producto}\")"
      ],
      "metadata": {
        "colab": {
          "base_uri": "https://localhost:8080/"
        },
        "id": "BoruKbv-lG6O",
        "outputId": "9e39ac5c-fde4-4091-b29f-3ef797ada210"
      },
      "execution_count": null,
      "outputs": [
        {
          "output_type": "stream",
          "name": "stdout",
          "text": [
            "1 x 1 = 1\n",
            "1 x 2 = 2\n",
            "1 x 3 = 3\n",
            "1 x 4 = 4\n",
            "1 x 5 = 5\n",
            "3 x 1 = 3\n",
            "3 x 2 = 6\n",
            "3 x 3 = 9\n",
            "3 x 4 = 12\n",
            "3 x 5 = 15\n",
            "5 x 1 = 5\n",
            "5 x 2 = 10\n",
            "5 x 3 = 15\n",
            "5 x 4 = 20\n"
          ]
        }
      ]
    },
    {
      "cell_type": "code",
      "source": [
        "def process_text(text=\"Este es un texto de ejemplo.\", words_to_replace=None):\n",
        "    if words_to_replace is None:\n",
        "        words_to_replace = [\"ejemplo\", \"texto\", \"palabra\"]\n",
        "\n",
        "    # Convertir el texto a minúsculas\n",
        "    text = text.lower().strip()\n",
        "\n",
        "    # Inicializar el contador de palabras reemplazadas\n",
        "    count_replacements = 0\n",
        "\n",
        "    # Reemplazar las palabras\n",
        "    for word in words_to_replace:\n",
        "\n",
        "        # Contar cuántas veces aparece la palabra antes del reemplazo\n",
        "        count_replacements += text.count(word)\n",
        "\n",
        "        # Reemplazar la palabra por asteriscos\n",
        "        text = text.replace(word, '*' * len(word))\n",
        "\n",
        "    return text, count_replacements\n",
        "\n",
        "# Ejemplo de uso\n",
        "resultado, cantidad_reemplazos = process_text(\"Este es un Texto de Ejemplo. Este es otro ejemplo.\", [\"ejemplo\", \"texto\"])\n",
        "print(\"Texto procesado:\", resultado)\n",
        "print(\"Cantidad de palabras reemplazadas:\", cantidad_reemplazos)"
      ],
      "metadata": {
        "id": "c9sKcl1hkbZv",
        "outputId": "d4a19d22-0fdf-4667-cce8-cdc66e419292",
        "colab": {
          "base_uri": "https://localhost:8080/"
        }
      },
      "execution_count": null,
      "outputs": [
        {
          "output_type": "stream",
          "name": "stdout",
          "text": [
            "Texto procesado: este es un ***** de *******. este es otro *******.\n",
            "Cantidad de palabras reemplazadas: 3\n"
          ]
        }
      ]
    }
  ]
}
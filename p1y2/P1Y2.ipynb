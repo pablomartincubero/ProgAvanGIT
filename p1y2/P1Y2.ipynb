{
  "nbformat": 4,
  "nbformat_minor": 0,
  "metadata": {
    "colab": {
      "provenance": [],
      "authorship_tag": "ABX9TyPvLQlcctKE4APMhBqsddv4",
      "include_colab_link": true
    },
    "kernelspec": {
      "name": "python3",
      "display_name": "Python 3"
    },
    "language_info": {
      "name": "python"
    }
  },
  "cells": [
    {
      "cell_type": "markdown",
      "metadata": {
        "id": "view-in-github",
        "colab_type": "text"
      },
      "source": [
        "<a href=\"https://colab.research.google.com/github/pablomartincubero/ProgAvanGIT/blob/main/p1y2/P1Y2.ipynb\" target=\"_parent\"><img src=\"https://colab.research.google.com/assets/colab-badge.svg\" alt=\"Open In Colab\"/></a>"
      ]
    },
    {
      "cell_type": "code",
      "source": [
        "for i in range(1, 6):  # Números del 1 al 5\n",
        "    for j in range(1, 6):  # Números del 1 al 5\n",
        "        producto = i * j\n",
        "\n",
        "        # Utiliza 'continue' para omitir multiplicaciones con números pares\n",
        "        if i % 2 == 0:\n",
        "            continue\n",
        "\n",
        "        # Detiene la tabla si el producto supera 20\n",
        "        if producto > 20:\n",
        "            break\n",
        "\n",
        "        # 'pass' se utiliza sin afectar la lógica del programa\n",
        "        pass\n",
        "\n",
        "        # Imprime la multiplicación\n",
        "        print(f\"{i} x {j} = {producto}\")"
      ],
      "metadata": {
        "colab": {
          "base_uri": "https://localhost:8080/"
        },
        "id": "BoruKbv-lG6O",
        "outputId": "9e39ac5c-fde4-4091-b29f-3ef797ada210"
      },
      "execution_count": null,
      "outputs": [
        {
          "output_type": "stream",
          "name": "stdout",
          "text": [
            "1 x 1 = 1\n",
            "1 x 2 = 2\n",
            "1 x 3 = 3\n",
            "1 x 4 = 4\n",
            "1 x 5 = 5\n",
            "3 x 1 = 3\n",
            "3 x 2 = 6\n",
            "3 x 3 = 9\n",
            "3 x 4 = 12\n",
            "3 x 5 = 15\n",
            "5 x 1 = 5\n",
            "5 x 2 = 10\n",
            "5 x 3 = 15\n",
            "5 x 4 = 20\n"
          ]
        }
      ]
    },
    {
      "cell_type": "code",
      "source": [
        "def process_text(text=\"Este es un texto de ejemplo.\", words_to_replace=None):\n",
        "    if words_to_replace is None:\n",
        "        words_to_replace = [\"ejemplo\", \"texto\", \"palabra\"]\n",
        "\n",
        "    # Convertir el texto a minúsculas\n",
        "    text = text.lower().strip()\n",
        "\n",
        "    # Inicializar el contador de palabras reemplazadas\n",
        "    count_replacements = 0\n",
        "\n",
        "    # Reemplazar las palabras\n",
        "    for word in words_to_replace:\n",
        "\n",
        "        # Contar cuántas veces aparece la palabra antes del reemplazo\n",
        "        count_replacements += text.count(word)\n",
        "\n",
        "        # Reemplazar la palabra por asteriscos\n",
        "        text = text.replace(word, '*' * len(word))\n",
        "\n",
        "    return text, count_replacements\n",
        "\n",
        "# Ejemplo de uso\n",
        "resultado, cantidad_reemplazos = process_text(\"Este es un Texto de Ejemplo. Este es otro ejemplo.\", [\"ejemplo\", \"texto\"])\n",
        "print(\"Texto procesado:\", resultado)\n",
        "print(\"Cantidad de palabras reemplazadas:\", cantidad_reemplazos)"
      ],
      "metadata": {
        "id": "c9sKcl1hkbZv",
        "outputId": "d4a19d22-0fdf-4667-cce8-cdc66e419292",
        "colab": {
          "base_uri": "https://localhost:8080/"
        }
      },
      "execution_count": null,
      "outputs": [
        {
          "output_type": "stream",
          "name": "stdout",
          "text": [
            "Texto procesado: este es un ***** de *******. este es otro *******.\n",
            "Cantidad de palabras reemplazadas: 3\n"
          ]
        }
      ]
    },
    {
      "cell_type": "code",
      "source": [
        "def is_prime(n):\n",
        "\n",
        "    #Un número es primo si es mayor que 1 y no tiene divisores más que 1 y él mismo.\n",
        "\n",
        "    if n <= 1:\n",
        "        return False\n",
        "    for i in range(2, int(n**0.5) + 1):\n",
        "        if n % i == 0:\n",
        "            return False\n",
        "    return True\n",
        "\n",
        "\n",
        "def prime_list(limit):\n",
        "\n",
        "    primes = []\n",
        "\n",
        "    for num in range(2, limit + 1):\n",
        "        if is_prime(num):\n",
        "            primes.append(num)\n",
        "    return primes\n",
        "\n",
        "\n",
        "def check_palindrome(primes):\n",
        "\n",
        "    palindromes = []\n",
        "\n",
        "    for prime in primes:\n",
        "        if str(prime) == str(prime)[::-1]:   #El [::-1] lo que hace es dar la vuelta a la cadena\n",
        "            palindromes.append(prime)        #Pone al final de la cadena el numero que cumpla la condición anterior\n",
        "    return palindromes\n",
        "\n",
        "\n",
        "def categorize_prime(prime):\n",
        "\n",
        "    if prime < 10:\n",
        "        return 'pequeño'\n",
        "    elif 10 <= prime < 100:\n",
        "        return 'mediano'\n",
        "    else:\n",
        "        return 'grande'\n",
        "\n",
        "\n",
        "def main():\n",
        "    # Prueba de las funciones\n",
        "    limit = 100\n",
        "\n",
        "    primes = prime_list(limit)\n",
        "    print(f\"Números primos hasta {limit}: {primes}\")\n",
        "\n",
        "    palindromes = check_palindrome(primes)\n",
        "    print(f\"Palíndromos entre los números primos: {palindromes}\")\n",
        "\n",
        "    for prime in primes:\n",
        "        category = categorize_prime(prime)\n",
        "        print(f\"El número primo {prime} es {category}.\")\n",
        "\n",
        "\n",
        "if __name__ == \"__main__\":\n",
        "    main()"
      ],
      "metadata": {
        "id": "Vk5Snv9oljuU",
        "outputId": "c9233597-ffc9-40f3-e306-a45765446bf0",
        "colab": {
          "base_uri": "https://localhost:8080/"
        }
      },
      "execution_count": 1,
      "outputs": [
        {
          "output_type": "stream",
          "name": "stdout",
          "text": [
            "Números primos hasta 100: [2, 3, 5, 7, 11, 13, 17, 19, 23, 29, 31, 37, 41, 43, 47, 53, 59, 61, 67, 71, 73, 79, 83, 89, 97]\n",
            "Palíndromos entre los números primos: [2, 3, 5, 7, 11]\n",
            "El número primo 2 es pequeño.\n",
            "El número primo 3 es pequeño.\n",
            "El número primo 5 es pequeño.\n",
            "El número primo 7 es pequeño.\n",
            "El número primo 11 es mediano.\n",
            "El número primo 13 es mediano.\n",
            "El número primo 17 es mediano.\n",
            "El número primo 19 es mediano.\n",
            "El número primo 23 es mediano.\n",
            "El número primo 29 es mediano.\n",
            "El número primo 31 es mediano.\n",
            "El número primo 37 es mediano.\n",
            "El número primo 41 es mediano.\n",
            "El número primo 43 es mediano.\n",
            "El número primo 47 es mediano.\n",
            "El número primo 53 es mediano.\n",
            "El número primo 59 es mediano.\n",
            "El número primo 61 es mediano.\n",
            "El número primo 67 es mediano.\n",
            "El número primo 71 es mediano.\n",
            "El número primo 73 es mediano.\n",
            "El número primo 79 es mediano.\n",
            "El número primo 83 es mediano.\n",
            "El número primo 89 es mediano.\n",
            "El número primo 97 es mediano.\n"
          ]
        }
      ]
    }
  ]
}
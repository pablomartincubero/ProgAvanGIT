{
  "nbformat": 4,
  "nbformat_minor": 0,
  "metadata": {
    "colab": {
      "provenance": []
    },
    "kernelspec": {
      "name": "python3",
      "display_name": "Python 3"
    },
    "language_info": {
      "name": "python"
    }
  },
  "cells": [
    {
      "cell_type": "code",
      "execution_count": null,
      "metadata": {
        "id": "fEJ_lu7-g4LX"
      },
      "outputs": [],
      "source": [
        "for i in range(1, 6):  # Números del 1 al 5\n",
        "    print(f\"\\nTabla de multiplicar del {i}:\")\n",
        "    for j in range(1, 11):  # Números del 1 al 10 para la multiplicación\n",
        "        producto = i * j\n",
        "        print(f\"{i} x {j} = {producto}\")"
      ]
    }
  ]
}